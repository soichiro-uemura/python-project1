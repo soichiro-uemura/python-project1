{
 "cells": [
  {
   "cell_type": "markdown",
   "metadata": {},
   "source": [
    "# 第2回本課題\n",
    "\n",
    "ATGCの4文字から成る文字列 s が引数として与えられたとき、\n",
    "最も出現回数が多い文字を文字1、\n",
    "2番目に出現回数が多い文字を文字2、\n",
    "3番目に出現回数が多い文字を文字3、\n",
    "最も出現回数が少ない文字を文字4で置き換えて得られる文字列を返す関数 atgc_encode(s) を作成して下さい。\n",
    "例えば、atgc_encode(\"AAGCCCCATGGTAA\") は、\"11322221433411\" を返します。\n",
    "4文字のうち、出現回数が同じものはないと仮定します。"
   ]
  },
  {
   "cell_type": "code",
   "execution_count": 6,
   "metadata": {},
   "outputs": [],
   "source": [
    "def atgc_enco(s):\n",
    "    a=s.count('A')\n",
    "    t=s.count('T')\n",
    "    g=s.count('G')\n",
    "    c=s.count('C')\n",
    "    s1=[a,t,g,c]\n",
    "    s1.sort()\n",
    "    s1.reverse()\n",
    "    A1=str(s1.index(a)+1)\n",
    "    T1=str(s1.index(t)+1)\n",
    "    G1=str(s1.index(g)+1)\n",
    "    C1=str(s1.index(c)+1)\n",
    "    return s.replace(\"A\",A1).replace(\"T\",T1).replace(\"G\",G1).replace(\"C\",C1)"
   ]
  },
  {
   "cell_type": "code",
   "execution_count": 7,
   "metadata": {},
   "outputs": [
    {
     "data": {
      "text/plain": [
       "'11322221433411'"
      ]
     },
     "execution_count": 7,
     "metadata": {},
     "output_type": "execute_result"
    }
   ],
   "source": [
    "atgc_enco(\"AAGCCCCATGGTAA\")"
   ]
  },
  {
   "cell_type": "code",
   "execution_count": null,
   "metadata": {},
   "outputs": [],
   "source": []
  }
 ],
 "metadata": {
  "kernelspec": {
   "display_name": "Python 3",
   "language": "python",
   "name": "python3"
  },
  "language_info": {
   "codemirror_mode": {
    "name": "ipython",
    "version": 3
   },
   "file_extension": ".py",
   "mimetype": "text/x-python",
   "name": "python",
   "nbconvert_exporter": "python",
   "pygments_lexer": "ipython3",
   "version": "3.6.4"
  }
 },
 "nbformat": 4,
 "nbformat_minor": 2
}
